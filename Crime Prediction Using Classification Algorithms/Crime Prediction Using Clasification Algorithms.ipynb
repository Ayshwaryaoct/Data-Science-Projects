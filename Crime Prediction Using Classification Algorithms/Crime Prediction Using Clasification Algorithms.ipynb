{
 "cells": [
  {
   "cell_type": "markdown",
   "metadata": {},
   "source": [
    "##### Ayshwarya Sambasivan\n",
    "##### Crime prediction Using Classification algorithms"
   ]
  },
  {
   "cell_type": "code",
   "execution_count": 1,
   "metadata": {
    "collapsed": true
   },
   "outputs": [],
   "source": [
    "import os\n",
    "import copy\n",
    "import pandas as pd\n",
    "import numpy as np\n",
    "from sklearn.model_selection import cross_val_score\n",
    "from sklearn.metrics import classification_report, accuracy_score, mean_squared_error, r2_score\n",
    "from sklearn.tree import DecisionTreeClassifier\n",
    "from sklearn.naive_bayes import GaussianNB\n",
    "from sklearn.svm import LinearSVC, SVC\n",
    "from sklearn.linear_model import LinearRegression, RidgeCV, Ridge \n",
    "from sklearn.preprocessing import PolynomialFeatures\n",
    "from sklearn.pipeline import Pipeline\n",
    "from sklearn.ensemble import ExtraTreesClassifier, GradientBoostingClassifier\n",
    "\n",
    "# since we are performing cross validation and classification reports on a number of models, a wrapper class \n",
    "# is used to run the cross_val_score function and extract scores required\n",
    "class CS595ModelClassificationScoring(object):\n",
    "    def __init__(self, model_object=None, train_data=None, target_data=None, model_name=None):\n",
    "        self.model_object = model_object\n",
    "        self.train_data = train_data\n",
    "        self.target_data = target_data\n",
    "        self.model_name = model_name if model_name is not None else \"model\"\n",
    "        self.full_model = None\n",
    "    def cross_validate(self, num_folds=10, scorers=[\"accuracy\", \"precision\", \"recall\", \"f1\"]):\n",
    "        print(\"\\n{} performace on cross validation:\".format(self.model_name))\n",
    "        all_scores = []\n",
    "        for scorer in scorers:\n",
    "            scores = cross_val_score(copy.deepcopy(self.model_object),  # steps to convert raw messages into models\n",
    "                                     self.train_data,  # training data\n",
    "                                     self.target_data,  # training labels\n",
    "                                     cv=num_folds,# split data randomly into num_folds parts: num_folds-1 for training, 1 for scoring\n",
    "                                     scoring=scorer,  # scoring metric\n",
    "                                     n_jobs=-1,  # -1 = use all cores = faster\n",
    "                                     )\n",
    "            all_scores.append({'score_name': scorer, 'scores': scores, 'mean': scores.mean(), 'std': scores.std()})\n",
    "        self.print_cross_val_scores(num_folds, self.model_name, all_scores)\n",
    "\n",
    "    def full_data_fit_score(self, target_names=None, print_report='clf'):\n",
    "        self.full_model = copy.deepcopy(self.model_object)\n",
    "        self.full_model.fit(self.train_data, self.target_data)\n",
    "        if print_report=='clf':\n",
    "            print(\"\\n{} performace on training with full data:\".format(self.model_name))\n",
    "            print_classification_report(self.full_model, self.train_data, self.target_data, target_names)\n",
    "        else: \n",
    "            print(\"\\n{} performace on training with full data:\".format(self.model_name))\n",
    "            predicted_data = self.full_model.predict(self.train_data)\n",
    "            print(\"\\tMSE of the model is {}\".format(mean_squared_error(self.target_data, predicted_data)))\n",
    "            print(u\"\\tR\\u00B2 of the model is {}\".format(r2_score(self.target_data, predicted_data)))\n",
    "\n",
    "    def __iter__(self):\n",
    "        if self.score_dict:\n",
    "            for score_name in self.score_names:\n",
    "                yield self.score_dict[score_name]\n",
    "\n",
    "    def print_cross_val_scores(self, num_folds, model_name, model_scores):\n",
    "        print(\"\\nThe {}-fold cross-validation {} for the {} model are: \".format(num_folds, ', '.join(\n",
    "            [scores['score_name'] for scores in model_scores]), model_name))\n",
    "        for scores in model_scores:\n",
    "            print(u\"\\t{:{}s}: {:{}f}(\\u00B1{})\".format(scores['score_name'], 22, round(scores['mean'], 4), 2,\n",
    "                                                       round(scores['std'], 2)))\n",
    "\n",
    "\n",
    "# helper function to calculate and print classification report            \n",
    "def print_classification_report(trained_model_object, train_data, target_data, target_names):\n",
    "    predicted_data = trained_model_object.predict(train_data)\n",
    "    print(\"Accuracy of the model is {}\".format(accuracy_score(target_data, predicted_data)))\n",
    "    print(classification_report(target_data, predicted_data, target_names=target_names))\n",
    "\n",
    "\n",
    "# helper function to print feature importances\n",
    "def show_feature_importances(importances_list, variable_list, model_name=\"\", topn=10, sort_order_ascending=False, print_leading=True):\n",
    "    feature_importances = pd.DataFrame(importances_list, columns=[\"Feature Importance\"], index=variable_list) \\\n",
    "        .sort_values([\"Feature Importance\"], ascending=sort_order_ascending)\n",
    "    if print_leading:\n",
    "        print(\"\\nThe 10 most predictive features of the {} are : \".format(model_name))\n",
    "    print(feature_importances.dropna().head(topn))\n"
   ]
  },
  {
   "cell_type": "code",
   "execution_count": 2,
   "metadata": {},
   "outputs": [
    {
     "data": {
      "text/html": [
       "<div>\n",
       "<table border=\"1\" class=\"dataframe\">\n",
       "  <thead>\n",
       "    <tr style=\"text-align: right;\">\n",
       "      <th></th>\n",
       "      <th>state</th>\n",
       "      <th>communityname</th>\n",
       "      <th>fold</th>\n",
       "      <th>population</th>\n",
       "      <th>householdsize</th>\n",
       "      <th>racepctblack</th>\n",
       "      <th>racePctWhite</th>\n",
       "      <th>racePctAsian</th>\n",
       "      <th>racePctHisp</th>\n",
       "      <th>agePct12t21</th>\n",
       "      <th>...</th>\n",
       "      <th>PctForeignBorn</th>\n",
       "      <th>PctBornSameState</th>\n",
       "      <th>PctSameHouse85</th>\n",
       "      <th>PctSameCity85</th>\n",
       "      <th>PctSameState85</th>\n",
       "      <th>LandArea</th>\n",
       "      <th>PopDens</th>\n",
       "      <th>PctUsePubTrans</th>\n",
       "      <th>LemasPctOfficDrugUn</th>\n",
       "      <th>ViolentCrimesPerPop</th>\n",
       "    </tr>\n",
       "  </thead>\n",
       "  <tbody>\n",
       "    <tr>\n",
       "      <th>0</th>\n",
       "      <td>1</td>\n",
       "      <td>Alabastercity</td>\n",
       "      <td>7</td>\n",
       "      <td>0.01</td>\n",
       "      <td>0.61</td>\n",
       "      <td>0.21</td>\n",
       "      <td>0.83</td>\n",
       "      <td>0.02</td>\n",
       "      <td>0.01</td>\n",
       "      <td>0.41</td>\n",
       "      <td>...</td>\n",
       "      <td>0.03</td>\n",
       "      <td>0.70</td>\n",
       "      <td>0.40</td>\n",
       "      <td>0.34</td>\n",
       "      <td>0.57</td>\n",
       "      <td>0.05</td>\n",
       "      <td>0.06</td>\n",
       "      <td>0.01</td>\n",
       "      <td>0.0</td>\n",
       "      <td>0.06</td>\n",
       "    </tr>\n",
       "    <tr>\n",
       "      <th>1</th>\n",
       "      <td>1</td>\n",
       "      <td>AlexanderCitycity</td>\n",
       "      <td>10</td>\n",
       "      <td>0.01</td>\n",
       "      <td>0.41</td>\n",
       "      <td>0.55</td>\n",
       "      <td>0.57</td>\n",
       "      <td>0.01</td>\n",
       "      <td>0.00</td>\n",
       "      <td>0.47</td>\n",
       "      <td>...</td>\n",
       "      <td>0.00</td>\n",
       "      <td>0.93</td>\n",
       "      <td>0.66</td>\n",
       "      <td>0.82</td>\n",
       "      <td>0.84</td>\n",
       "      <td>0.11</td>\n",
       "      <td>0.03</td>\n",
       "      <td>0.01</td>\n",
       "      <td>0.0</td>\n",
       "      <td>0.14</td>\n",
       "    </tr>\n",
       "    <tr>\n",
       "      <th>2</th>\n",
       "      <td>1</td>\n",
       "      <td>Annistoncity</td>\n",
       "      <td>3</td>\n",
       "      <td>0.03</td>\n",
       "      <td>0.34</td>\n",
       "      <td>0.86</td>\n",
       "      <td>0.30</td>\n",
       "      <td>0.04</td>\n",
       "      <td>0.01</td>\n",
       "      <td>0.41</td>\n",
       "      <td>...</td>\n",
       "      <td>0.04</td>\n",
       "      <td>0.77</td>\n",
       "      <td>0.59</td>\n",
       "      <td>0.70</td>\n",
       "      <td>0.64</td>\n",
       "      <td>0.06</td>\n",
       "      <td>0.11</td>\n",
       "      <td>0.04</td>\n",
       "      <td>0.0</td>\n",
       "      <td>1.00</td>\n",
       "    </tr>\n",
       "    <tr>\n",
       "      <th>3</th>\n",
       "      <td>1</td>\n",
       "      <td>Athenscity</td>\n",
       "      <td>8</td>\n",
       "      <td>0.01</td>\n",
       "      <td>0.38</td>\n",
       "      <td>0.35</td>\n",
       "      <td>0.71</td>\n",
       "      <td>0.04</td>\n",
       "      <td>0.01</td>\n",
       "      <td>0.39</td>\n",
       "      <td>...</td>\n",
       "      <td>0.03</td>\n",
       "      <td>0.78</td>\n",
       "      <td>0.56</td>\n",
       "      <td>0.67</td>\n",
       "      <td>0.71</td>\n",
       "      <td>0.09</td>\n",
       "      <td>0.05</td>\n",
       "      <td>0.00</td>\n",
       "      <td>0.0</td>\n",
       "      <td>0.23</td>\n",
       "    </tr>\n",
       "    <tr>\n",
       "      <th>4</th>\n",
       "      <td>1</td>\n",
       "      <td>Auburncity</td>\n",
       "      <td>1</td>\n",
       "      <td>0.04</td>\n",
       "      <td>0.37</td>\n",
       "      <td>0.32</td>\n",
       "      <td>0.70</td>\n",
       "      <td>0.21</td>\n",
       "      <td>0.02</td>\n",
       "      <td>1.00</td>\n",
       "      <td>...</td>\n",
       "      <td>0.12</td>\n",
       "      <td>0.49</td>\n",
       "      <td>0.12</td>\n",
       "      <td>0.00</td>\n",
       "      <td>0.15</td>\n",
       "      <td>0.09</td>\n",
       "      <td>0.09</td>\n",
       "      <td>0.01</td>\n",
       "      <td>0.0</td>\n",
       "      <td>0.15</td>\n",
       "    </tr>\n",
       "  </tbody>\n",
       "</table>\n",
       "<p>5 rows × 104 columns</p>\n",
       "</div>"
      ],
      "text/plain": [
       "   state      communityname  fold  population  householdsize  racepctblack  \\\n",
       "0      1      Alabastercity     7        0.01           0.61          0.21   \n",
       "1      1  AlexanderCitycity    10        0.01           0.41          0.55   \n",
       "2      1       Annistoncity     3        0.03           0.34          0.86   \n",
       "3      1         Athenscity     8        0.01           0.38          0.35   \n",
       "4      1         Auburncity     1        0.04           0.37          0.32   \n",
       "\n",
       "   racePctWhite  racePctAsian  racePctHisp  agePct12t21         ...           \\\n",
       "0          0.83          0.02         0.01         0.41         ...            \n",
       "1          0.57          0.01         0.00         0.47         ...            \n",
       "2          0.30          0.04         0.01         0.41         ...            \n",
       "3          0.71          0.04         0.01         0.39         ...            \n",
       "4          0.70          0.21         0.02         1.00         ...            \n",
       "\n",
       "   PctForeignBorn  PctBornSameState  PctSameHouse85  PctSameCity85  \\\n",
       "0            0.03              0.70            0.40           0.34   \n",
       "1            0.00              0.93            0.66           0.82   \n",
       "2            0.04              0.77            0.59           0.70   \n",
       "3            0.03              0.78            0.56           0.67   \n",
       "4            0.12              0.49            0.12           0.00   \n",
       "\n",
       "   PctSameState85  LandArea  PopDens  PctUsePubTrans  LemasPctOfficDrugUn  \\\n",
       "0            0.57      0.05     0.06            0.01                  0.0   \n",
       "1            0.84      0.11     0.03            0.01                  0.0   \n",
       "2            0.64      0.06     0.11            0.04                  0.0   \n",
       "3            0.71      0.09     0.05            0.00                  0.0   \n",
       "4            0.15      0.09     0.09            0.01                  0.0   \n",
       "\n",
       "   ViolentCrimesPerPop  \n",
       "0                 0.06  \n",
       "1                 0.14  \n",
       "2                 1.00  \n",
       "3                 0.23  \n",
       "4                 0.15  \n",
       "\n",
       "[5 rows x 104 columns]"
      ]
     },
     "execution_count": 2,
     "metadata": {},
     "output_type": "execute_result"
    }
   ],
   "source": [
    "# initialize some dictionaries to hold scorers and models\n",
    "scorers = {}\n",
    "\n",
    "# set up data file paths\n",
    "data_folder = 'Crime Prediction Data'\n",
    "data_path = os.path.join(os.path.dirname(os.path.realpath('__file__')), data_folder)\n",
    "full_data_file = os.path.join(data_path, 'communities-crime-full.csv')\n",
    "clean_data_file = os.path.join(data_path, 'communities-crime-clean.csv')\n",
    "\n",
    "# read clean data file\n",
    "clean_data_df = pd.read_csv(clean_data_file)\n",
    "\n",
    "# set up predictor variables and target variables\n",
    "target_variable_clf = 'highCrime'\n",
    "target_variable_reg = 'ViolentCrimesPerPop'\n",
    "non_predictors = {target_variable_reg, target_variable_clf, 'communityname', 'fold', 'state', 'county', 'community'} \n",
    "predictor_variables =  [col for col in clean_data_df if col not in non_predictors]\n",
    "clf_target_names = ['Low crime', 'High crime']\n",
    "\n",
    "clean_data_df.head()"
   ]
  },
  {
   "cell_type": "markdown",
   "metadata": {},
   "source": [
    "# 1.\tDecision Trees\n"
   ]
  },
  {
   "cell_type": "code",
   "execution_count": 3,
   "metadata": {},
   "outputs": [
    {
     "name": "stdout",
     "output_type": "stream",
     "text": [
      "Percentage of positive instances of high crime (per capita crime rate > 0.1) is 62.72% \n",
      "Percentage of negative instances of high crime (per capita crime rate <= 0.1) is 37.28% \n"
     ]
    }
   ],
   "source": [
    "# percentage of positive and negative instances of per capita crime rate (ViolentCrimesPerPop) greater than 0.1\n",
    "clean_data_df[target_variable_clf] = clean_data_df['ViolentCrimesPerPop'] > 0.1\n",
    "pct_high_crime = clean_data_df[target_variable_clf].value_counts(normalize=True) * 100\n",
    "print(\"Percentage of positive instances of high crime (per capita crime rate > 0.1) is {0:.2f}% \".format(pct_high_crime[True]))\n",
    "print(\"Percentage of negative instances of high crime (per capita crime rate <= 0.1) is {0:.2f}% \".format(pct_high_crime[False]))"
   ]
  },
  {
   "cell_type": "code",
   "execution_count": 4,
   "metadata": {},
   "outputs": [
    {
     "name": "stdout",
     "output_type": "stream",
     "text": [
      "\n",
      "Decision Tree performace on training with full data:\n",
      "Accuracy of the model is 1.0\n",
      "             precision    recall  f1-score   support\n",
      "\n",
      "  Low crime       1.00      1.00      1.00       743\n",
      " High crime       1.00      1.00      1.00      1250\n",
      "\n",
      "avg / total       1.00      1.00      1.00      1993\n",
      "\n"
     ]
    }
   ],
   "source": [
    "# decision tree to predict highCrime on the entire dataset \n",
    "# initializing the classification scoring instance for decision tree\n",
    "scorers['Decision Tree'] = CS595ModelClassificationScoring(\n",
    "                                DecisionTreeClassifier(random_state=210), \n",
    "                                clean_data_df[predictor_variables], \n",
    "                                clean_data_df[target_variable_clf], \n",
    "                                'Decision Tree')\n",
    "\n",
    "# training accuracy, precision, and recall on full data\n",
    "scorers['Decision Tree'].full_data_fit_score(clf_target_names)\n"
   ]
  },
  {
   "cell_type": "code",
   "execution_count": 5,
   "metadata": {
    "scrolled": true
   },
   "outputs": [
    {
     "name": "stdout",
     "output_type": "stream",
     "text": [
      "\n",
      "The 10 most predictive features of the Decision Tree are : \n",
      "                 Feature Importance\n",
      "PctKids2Par                0.362098\n",
      "racePctWhite               0.089608\n",
      "racePctHisp                0.048585\n",
      "PctLess9thGrade            0.020673\n",
      "PctEmplManu                0.017035\n",
      "PctSameState85             0.016741\n",
      "MedRent                    0.013290\n",
      "PctPersOwnOccup            0.012138\n",
      "HousVacant                 0.011821\n",
      "PctImmigRec10              0.011378\n"
     ]
    }
   ],
   "source": [
    "# feature importances\n",
    "show_feature_importances(scorers['Decision Tree'].full_model.feature_importances_, \n",
    "                         predictor_variables, 'Decision Tree')"
   ]
  },
  {
   "cell_type": "markdown",
   "metadata": {},
   "source": [
    "1. The percentage of kids in family housing with two parents is the most important feature by a long way. At first glance it does not seem to make sense. But its been concluded by social scientists that children raised in intact married families are more likely to attend college, are less likely to be physically or sexually abused, less likely to use drugs or alcohol and to commit delinquent behaviors, and are less likely to be raised in poverty (\"Why Marriage Matters: 26 Conclusions from the Social Sciences,\" Bradford Wilcox, Institute for American Values). These positive effects I think has a cascading effect on the level of crime in the locality. So I think that the importance of this feature is justified as it seems to have along term effect on the people in the locality. \n",
    "\n",
    "2. Other features such as PctLess9thGrade (indicative of lower level of education), PctEmplManu (indicative of lower/erratic income and education level) having high importance makes sense in that people without a steady income and poor education level may be more prone to commit crimes to obtain money. \n",
    "\n",
    "3. Features like PctPersOwnOccup, racePctWhite and racePctHisp (a person's economic class position is correlated with one's racial background) are important because the class level of majority of a locality would have a big impact on the crime level. e.g. people of white race overrepresented among middle and higher-income people (in US). So a locality with high racePctWhite may have a higher average income which maybe pushing crime rates low.\n",
    "\n",
    "4. Features such as MedRent and HousVacant are affected by the crime rate in a locality. e.g. Housing in low crime locality maybe be more in demand pushing rents up and high crime rates may discourage people from renting houses in the area leaving more homes vacant.\n",
    "\n",
    "5. PctImmigRec10 and PctSameState85 indicate the level of long term residents of a locality. This makes sense because a larger number of long term residents means that they probably have a steady income and proper shelter which may reduce crime rates.\n"
   ]
  },
  {
   "cell_type": "code",
   "execution_count": 6,
   "metadata": {
    "scrolled": false
   },
   "outputs": [
    {
     "name": "stdout",
     "output_type": "stream",
     "text": [
      "\n",
      "Decision Tree performace on cross validation:\n",
      "\n",
      "The 10-fold cross-validation accuracy, precision, recall, f1 for the Decision Tree model are: \n",
      "\taccuracy              : 0.735000(±0.05)\n",
      "\tprecision             : 0.793900(±0.03)\n",
      "\trecall                : 0.781600(±0.09)\n",
      "\tf1                    : 0.784900(±0.05)\n"
     ]
    }
   ],
   "source": [
    "# cross validation scores : mean of measures \"accuracy\", \"precision\", \"recall\" and \"f1\" of 10-fold cross validation\n",
    "scorers['Decision Tree'].cross_validate()"
   ]
  },
  {
   "cell_type": "markdown",
   "metadata": {},
   "source": [
    "A decision tree in the trained with all the data perfectly memorises all the data. i.e. All the nodes are 100% pure. With a more stringent set of parameters like lower max_depth or lower max_leaf_nodes the decision tree would not be able to do that.\n",
    "Further the test cases have already been used to train the tree, so there is no new set of observations that the tree has to predict. In other words the decision tree has been trained to perfectly fit (overfit) all the data available. Hence all the scores are 1.\n",
    "\n",
    "But in the case of cross validation a part of data not used for training. The trained decision tree is therefore unlikely to fit the unseen data perfectly and so the accuracy, precision and recall are lower than the model trained on all the data. These scores are better indicators to the performance of the model"
   ]
  },
  {
   "cell_type": "markdown",
   "metadata": {},
   "source": [
    "# 2.\tLinear Classification"
   ]
  },
  {
   "cell_type": "code",
   "execution_count": 7,
   "metadata": {},
   "outputs": [
    {
     "name": "stdout",
     "output_type": "stream",
     "text": [
      "\n",
      "Gaussian Naive Bayes performace on training with full data:\n",
      "Accuracy of the model is 0.7782237832413447\n",
      "             precision    recall  f1-score   support\n",
      "\n",
      "  Low crime       0.64      0.91      0.75       743\n",
      " High crime       0.93      0.70      0.80      1250\n",
      "\n",
      "avg / total       0.82      0.78      0.78      1993\n",
      "\n",
      "\n",
      "Gaussian Naive Bayes performace on cross validation:\n",
      "\n",
      "The 10-fold cross-validation accuracy, precision, recall, f1 for the Gaussian Naive Bayes model are: \n",
      "\taccuracy              : 0.761600(±0.05)\n",
      "\tprecision             : 0.911800(±0.06)\n",
      "\trecall                : 0.692000(±0.09)\n",
      "\tf1                    : 0.781600(±0.06)\n"
     ]
    }
   ],
   "source": [
    "# initializing the classification scorer instance for Gaussian Naive Bayes classifier\n",
    "scorers['Gaussian Naive Bayes'] = CS595ModelClassificationScoring(GaussianNB(), \n",
    "                                clean_data_df[predictor_variables], \n",
    "                                clean_data_df[target_variable_clf], \n",
    "                                'Gaussian Naive Bayes')\n",
    "\n",
    "# training accuracy, precision, and recall on full data\n",
    "# calling full_data_fit_score on scorer returns model trained on all the data and prints its classification performance\n",
    "scorers['Gaussian Naive Bayes'].full_data_fit_score(clf_target_names)\n",
    "\n",
    "# 10-fold cross-validation accuracy, precision, and recall \n",
    "scorers['Gaussian Naive Bayes'].cross_validate()"
   ]
  },
  {
   "cell_type": "code",
   "execution_count": 8,
   "metadata": {
    "scrolled": true
   },
   "outputs": [
    {
     "name": "stdout",
     "output_type": "stream",
     "text": [
      "\n",
      "The 10 most predictive features of the Gaussian Naive Bayes are : \n",
      "                  Feature Importance\n",
      "PctKids2Par                 0.809748\n",
      "PctFam2Par                  0.745545\n",
      "racePctWhite                0.735230\n",
      "PctIlleg                    0.709261\n",
      "FemalePctDiv                0.693978\n",
      "TotalPctDiv                 0.674645\n",
      "PctYoungKids2Par            0.665009\n",
      "pctWInvInc                  0.661076\n",
      "PctTeen2Par                 0.642949\n",
      "MalePctDivorce              0.616864\n"
     ]
    }
   ],
   "source": [
    "# extracting feature importance from model attributes theata_(mean of each feature per class)\n",
    "# and sigma_ (variance of each feature per class)\n",
    "class_means_of_variables = pd.DataFrame(scorers['Gaussian Naive Bayes'].full_model.theta_.T)\n",
    "class_means_of_variables['abs_mean_diffrence'] = (class_means_of_variables[0]-class_means_of_variables[1]).abs()\n",
    "class_std_of_variables = pd.DataFrame(scorers['Gaussian Naive Bayes'].full_model.sigma_.T)\n",
    "class_std_of_variables['sum_of_std_dev'] =  (class_std_of_variables[0].apply(np.sqrt)+class_std_of_variables[1].apply(np.sqrt))\n",
    "feature_importances_nb = (class_means_of_variables['abs_mean_diffrence']/class_std_of_variables['sum_of_std_dev']).tolist()\n",
    "\n",
    "show_feature_importances(feature_importances_nb, predictor_variables, 'Gaussian Naive Bayes')"
   ]
  },
  {
   "cell_type": "markdown",
   "metadata": {},
   "source": [
    "The feature importances in the Gaussian Naive Bayes classifier seem all related to family and kids. \n",
    "1. PctKids2Par, PctFam2Par, PctIlleg, PctYoungKids2Par and PctTeen2Par are all indicative of the ratio of dependants to independants in the family. Two parent families may have more stable form of income while single parent familes are more likely to be at an economic disadvantage. e.g. Some parents may have less income to spend on children and their upbrining. So these variables all make sense in terms of being predictive of the the crime rate since they affect the children in the long term and adults in the short term. \n",
    "\n",
    "2. FemalePctDiv, TotalPctDiv and MalePctDivorce are again all indicative of state of families in the locality. These values maybe aliasing economic and social factors. e.g. low income families are more likely to divorce and free individuals from such divorces maybe more susceptble to fall into criminal behaviour. So these variables actually make sense.\n",
    "\n",
    "3. racePctWhite, pctWInvInc are indicative of the economic class of the people in the locality especially when the values are extremely low or high. A better economic class would lead to a lower crime rate. So these variables make sense being predictive of the crime rate.\n",
    "\n",
    "As compared to the feature importances of the decision tree only a few variables overlap: PctKids2Par, racePctWhite. This maybe because of the difference in which decision trees and Gaussian Naive Bayes treats correlated features. Decision tree would only pick the feature that provides most information from a correlated group. Since the information gain from successive correalated featues would be keep decreasing those successive features would not be picked. Whereas Gaussian NB treats all features are independant ones. Hence we see seemingly correlated features like FemalePctDiv, TotalPctDiv and MalePctDivorce all having high weights. But the variables themselves are representing the same facets such as average economic class of residents and ratio of dependants to independants in the family.\n",
    "\n",
    "The average accuracy and precision from cross validation of the Gaussian Naive Bayes classifier are actually higher than that of the Decision Tree while its recall is poorer. This means they have an almost identical F1 score. So we can say the classifiers are different but their performances are similar."
   ]
  },
  {
   "cell_type": "code",
   "execution_count": 9,
   "metadata": {},
   "outputs": [
    {
     "name": "stdout",
     "output_type": "stream",
     "text": [
      "\n",
      "Linear SVC performace on cross validation:\n",
      "\n",
      "The 10-fold cross-validation accuracy, precision, recall, f1 for the Linear SVC model are: \n",
      "\taccuracy              : 0.796200(±0.05)\n",
      "\tprecision             : 0.845400(±0.05)\n",
      "\trecall                : 0.834400(±0.12)\n",
      "\tf1                    : 0.833400(±0.06)\n",
      "\n",
      "Linear SVC performace on training with full data:\n",
      "Accuracy of the model is 0.8504766683391871\n",
      "             precision    recall  f1-score   support\n",
      "\n",
      "  Low crime       0.80      0.81      0.80       743\n",
      " High crime       0.88      0.88      0.88      1250\n",
      "\n",
      "avg / total       0.85      0.85      0.85      1993\n",
      "\n",
      "\n",
      "The 10 most predictive features of the Linear SVC are : \n",
      "                  Feature Importance\n",
      "pctWInvInc                  1.888486\n",
      "PersPerOccupHous            1.755127\n",
      "racePctWhite                1.500217\n",
      "PctKids2Par                 1.190329\n",
      "RentHighQ                   1.066885\n",
      "MalePctDivorce              1.065696\n",
      "NumUnderPov                 1.051548\n",
      "NumStreet                   1.019155\n",
      "PctOccupMgmtProf            1.014672\n",
      "population                  1.002301\n"
     ]
    }
   ],
   "source": [
    "# initializing the classification scorer instance for Linear SVC classifier\n",
    "scorers['Linear SVC'] = CS595ModelClassificationScoring(LinearSVC(), \n",
    "                                clean_data_df[predictor_variables], \n",
    "                                clean_data_df[target_variable_clf], \n",
    "                                'Linear SVC')\n",
    "\n",
    "# 10-fold cross-validation accuracy, precision, and recall \n",
    "scorers['Linear SVC'].cross_validate()\n",
    "\n",
    "# training accuracy, precision, and recall on full data\n",
    "# calling full_data_fit_score on scorer returns model trained on all the data and prints its classification performance\n",
    "scorers['Linear SVC'].full_data_fit_score(clf_target_names)\n",
    "\n",
    "# feature importances \n",
    "show_feature_importances(np.abs(scorers['Linear SVC'].full_model.coef_.T), predictor_variables, 'Linear SVC')"
   ]
  },
  {
   "cell_type": "markdown",
   "metadata": {},
   "source": [
    "The most important features make sense and a well balanced mix of factors. \n",
    "1. PersPerOccupHous, NumUnderPov and NumStreet are indicators of the economic class of the people in the locality especially those that are not doing too well. When these variables have high values the economic condition of a majority of the persons in these localities are bad. This maybe  leading to a high level of crime.\n",
    "\n",
    "2. PctKids2Par is indicative of kids growing up in a stable environment which as described in the Decision Trees section has a lot of positive effects on how they turn out as adults. \n",
    "\n",
    "3. pctWInvInc, racePctWhite, RentHighQ and PctOccupMgmtProf are indicators of good economic class. When these are high one could expect a locality with a high percapita income and therefore a low crime rate.\n",
    "\n",
    "4. MalePctDivorce maybe indicative of men who are not restrained down by familial responsibilities who are in a maybe not in the best emotional state and are more susceptible to commit a crime.\n",
    "\n",
    "5. population in general is indicative of living conditions and economic class.  Its possible that when population is high the level of crime is also high.\n",
    "\n",
    "The features of high importance in the linear SVC seem to measure different facets of the population and therefore the classification results are better than the Decision tree model. They do share a few features like PctKids2Par and racePctWhite. It has better average scores in accuracy, precision, recall anf f1 score."
   ]
  },
  {
   "cell_type": "markdown",
   "metadata": {},
   "source": [
    "# 3.Regression"
   ]
  },
  {
   "cell_type": "markdown",
   "metadata": {},
   "source": [
    "### Linear Regression"
   ]
  },
  {
   "cell_type": "code",
   "execution_count": 10,
   "metadata": {
    "scrolled": true
   },
   "outputs": [
    {
     "name": "stdout",
     "output_type": "stream",
     "text": [
      "\n",
      "Linear Regression performace on cross validation:\n",
      "\n",
      "The 10-fold cross-validation neg_mean_squared_error, r2 for the Linear Regression model are: \n",
      "\tneg_mean_squared_error: -0.020100(±0.01)\n",
      "\tr2                    : 0.585900(±0.09)\n",
      "\n",
      "Linear Regression performace on training with full data:\n",
      "\tMSE of the model is 0.016516774880307176\n",
      "\tR² of the model is 0.6957224231409389\n",
      "\n",
      "The features are most predictive of a high crime rate are:\n",
      "                  Feature Importance\n",
      "PersPerOccupHous            0.635088\n",
      "PctHousOwnOcc               0.568133\n",
      "MalePctDivorce              0.458517\n",
      "PctRecImmig8                0.432511\n",
      "MedRent                     0.372728\n",
      "medFamInc                   0.287979\n",
      "PctEmploy                   0.248474\n",
      "MalePctNevMarr              0.226728\n",
      "PctPersDenseHous            0.214353\n",
      "OwnOccMedVal                0.212876\n",
      "\n",
      "The features are most predictive of a low crime rate are:\n",
      "                    Feature Importance\n",
      "PctPersOwnOccup              -0.675694\n",
      "TotalPctDiv                  -0.561924\n",
      "whitePerCap                  -0.351016\n",
      "PctKids2Par                  -0.322651\n",
      "OwnOccLowQuart               -0.308170\n",
      "numbUrban                    -0.296443\n",
      "PersPerRentOccHous           -0.254572\n",
      "RentLowQ                     -0.234752\n",
      "agePct12t29                  -0.229218\n",
      "PctRecImmig5                 -0.218221\n"
     ]
    }
   ],
   "source": [
    "# initializing the regression scorer instance for Linear SVC classifier\n",
    "scorers['Linear Regression'] = CS595ModelClassificationScoring(LinearRegression(), \n",
    "                                             clean_data_df[predictor_variables], \n",
    "                                             clean_data_df[target_variable_reg],\n",
    "                                            'Linear Regression')\n",
    "\n",
    "# 10-fold cross-validation accuracy, precision, and recall \n",
    "scorers['Linear Regression'].cross_validate(scorers =['neg_mean_squared_error', 'r2'])\n",
    "\n",
    "# training accuracy, precision, and recall on full data\n",
    "# calling full_data_fit_score on scorer returns model trained on all the data and prints its classification performance\n",
    "scorers['Linear Regression'].full_data_fit_score(print_report='reg')\n",
    "print(\"\\nThe features are most predictive of a high crime rate are:\")\n",
    "show_feature_importances(scorers['Linear Regression'].full_model.coef_.T, predictor_variables, 'Linear Regression model', print_leading=False)\n",
    "print(\"\\nThe features are most predictive of a low crime rate are:\")\n",
    "show_feature_importances(scorers['Linear Regression'].full_model.coef_.T, predictor_variables, 'Linear Regression model', \n",
    "                         sort_order_ascending=True,print_leading=False)"
   ]
  },
  {
   "cell_type": "markdown",
   "metadata": {},
   "source": [
    "The estimated mean-squared-error (MSE) of the linear regression model using 10-fold cross-validation is 0.020100(±0.01).\n",
    "\n",
    "The MSE of the linear regression model trained and tested all the data is 0.016516.\n",
    "\n",
    "I have used the magnitude of the coefficients of the linear regression model to determine which features are most predictive of a high or low crime rate. The top 10 features sorted by magnitude are shown above. "
   ]
  },
  {
   "cell_type": "markdown",
   "metadata": {},
   "source": [
    "### Ridge Regression"
   ]
  },
  {
   "cell_type": "code",
   "execution_count": 11,
   "metadata": {},
   "outputs": [
    {
     "name": "stdout",
     "output_type": "stream",
     "text": [
      "The best alpha is 1.0\n",
      "\n",
      "Ridge Regression performace on cross validation:\n",
      "\n",
      "The 10-fold cross-validation neg_mean_squared_error, r2 for the Ridge Regression model are: \n",
      "\tneg_mean_squared_error: -0.019800(±0.01)\n",
      "\tr2                    : 0.593600(±0.09)\n",
      "\n",
      "Ridge Regression performace on training with full data:\n",
      "\tMSE of the model is 0.016763529155169477\n",
      "\tR² of the model is 0.691176632974347\n"
     ]
    }
   ],
   "source": [
    "# ridge cross validation\n",
    "ridge_cv = RidgeCV(alphas=[10, 1, 0.1, 0.01, 0.001])\n",
    "ridge_cv.fit(clean_data_df[predictor_variables], clean_data_df[target_variable_reg])       \n",
    "best_alpha = ridge_cv.alpha_\n",
    "print(\"The best alpha is {}\".format(best_alpha))\n",
    "\n",
    "scorers['Ridge Regression'] = CS595ModelClassificationScoring(Ridge(alpha = best_alpha), \n",
    "                                             clean_data_df[predictor_variables], \n",
    "                                             clean_data_df[target_variable_reg],\n",
    "                                            'Ridge Regression')\n",
    "\n",
    "# 10-fold cross-validation accuracy, precision, and recall \n",
    "scorers['Ridge Regression'].cross_validate(scorers =['neg_mean_squared_error', 'r2'])\n",
    "\n",
    "# training accuracy, precision, and recall on full data\n",
    "# calling full_data_fit_score on scorer returns model trained on all the data and prints its classification performance\n",
    "scorers['Ridge Regression'].full_data_fit_score(print_report='reg')\n"
   ]
  },
  {
   "cell_type": "markdown",
   "metadata": {},
   "source": [
    "There is not much difference in the performance of the linear and ridge regression. From this we can conclude that there is almost no overfitting in the linear regression. If there had been overfitting it would have been penalized in the ridge regression and it would have a better MSE and R-squared."
   ]
  },
  {
   "cell_type": "markdown",
   "metadata": {},
   "source": [
    "### Polynomial features"
   ]
  },
  {
   "cell_type": "code",
   "execution_count": 12,
   "metadata": {},
   "outputs": [
    {
     "name": "stdout",
     "output_type": "stream",
     "text": [
      "The best alpha for polynomial features is 1.0\n",
      "\n",
      "Polynomial Ridge Regression performace on cross validation:\n",
      "\n",
      "The 10-fold cross-validation neg_mean_squared_error, r2 for the Polynomial Ridge Regression model are: \n",
      "\tneg_mean_squared_error: -0.019800(±0.01)\n",
      "\tr2                    : 0.598600(±0.09)\n",
      "\n",
      "Polynomial Ridge Regression performace on training with full data:\n",
      "\tMSE of the model is 0.01225176206128106\n",
      "\tR² of the model is 0.7742939224348716\n"
     ]
    }
   ],
   "source": [
    "# initializing pipeline for creating polynomial features and fitting Ridge regression\n",
    "ridge_cv_poly = RidgeCV(alphas=[10, 1, 0.1, 0.01, 0.001])\n",
    "poly = PolynomialFeatures(2)\n",
    "ridge_cv_poly.fit(poly.fit_transform(clean_data_df[predictor_variables]), clean_data_df[target_variable_reg])       \n",
    "best_alpha_poly = ridge_cv_poly.alpha_\n",
    "print(\"The best alpha for polynomial features is {}\".format(best_alpha))\n",
    "\n",
    "poly_ridge_model = Pipeline([('poly', PolynomialFeatures(degree=2)),\n",
    "                             ('ridge', Ridge(alpha = best_alpha_poly))\n",
    "                            ])\n",
    "scorers['Polynomial Ridge Regression'] = CS595ModelClassificationScoring(poly_ridge_model, \n",
    "                                             clean_data_df[predictor_variables], \n",
    "                                             clean_data_df[target_variable_reg],\n",
    "                                            'Polynomial Ridge Regression')\n",
    "\n",
    "# 10-fold cross-validation accuracy, precision, and recall \n",
    "scorers['Polynomial Ridge Regression'].cross_validate(scorers =['neg_mean_squared_error', 'r2'])\n",
    "\n",
    "# training accuracy, precision, and recall on full data\n",
    "# calling full_data_fit_score on scorer returns model trained on all the data and prints its classification performance\n",
    "scorers['Polynomial Ridge Regression'].full_data_fit_score(print_report='reg')"
   ]
  },
  {
   "cell_type": "markdown",
   "metadata": {},
   "source": [
    "At alpha = 1, the model using quadratic features is not better than the one using linear features since they have the same average MSE and R-squared on cross validation.\n",
    "\n",
    "The MSE and R-squared are only marginally better on the model trained on full data set. So we cannot say that quadratic model is better than the linear model for this problem."
   ]
  },
  {
   "cell_type": "markdown",
   "metadata": {},
   "source": [
    "# 4.\tDirty Data"
   ]
  },
  {
   "cell_type": "code",
   "execution_count": 13,
   "metadata": {},
   "outputs": [
    {
     "data": {
      "text/html": [
       "<div>\n",
       "<table border=\"1\" class=\"dataframe\">\n",
       "  <thead>\n",
       "    <tr style=\"text-align: right;\">\n",
       "      <th></th>\n",
       "      <th>state</th>\n",
       "      <th>county</th>\n",
       "      <th>community</th>\n",
       "      <th>communityname</th>\n",
       "      <th>fold</th>\n",
       "      <th>population</th>\n",
       "      <th>householdsize</th>\n",
       "      <th>racepctblack</th>\n",
       "      <th>racePctWhite</th>\n",
       "      <th>racePctAsian</th>\n",
       "      <th>...</th>\n",
       "      <th>PopDens</th>\n",
       "      <th>PctUsePubTrans</th>\n",
       "      <th>PolicCars</th>\n",
       "      <th>PolicOperBudg</th>\n",
       "      <th>LemasPctPolicOnPatr</th>\n",
       "      <th>LemasGangUnitDeploy</th>\n",
       "      <th>LemasPctOfficDrugUn</th>\n",
       "      <th>PolicBudgPerPop</th>\n",
       "      <th>ViolentCrimesPerPop</th>\n",
       "      <th>highCrime</th>\n",
       "    </tr>\n",
       "  </thead>\n",
       "  <tbody>\n",
       "    <tr>\n",
       "      <th>0</th>\n",
       "      <td>8</td>\n",
       "      <td>NaN</td>\n",
       "      <td>NaN</td>\n",
       "      <td>Lakewoodcity</td>\n",
       "      <td>1</td>\n",
       "      <td>0.19</td>\n",
       "      <td>0.33</td>\n",
       "      <td>0.02</td>\n",
       "      <td>0.90</td>\n",
       "      <td>0.12</td>\n",
       "      <td>...</td>\n",
       "      <td>0.26</td>\n",
       "      <td>0.20</td>\n",
       "      <td>0.06</td>\n",
       "      <td>0.04</td>\n",
       "      <td>0.9</td>\n",
       "      <td>0.5</td>\n",
       "      <td>0.32</td>\n",
       "      <td>0.14</td>\n",
       "      <td>0.20</td>\n",
       "      <td>1</td>\n",
       "    </tr>\n",
       "    <tr>\n",
       "      <th>1</th>\n",
       "      <td>53</td>\n",
       "      <td>NaN</td>\n",
       "      <td>NaN</td>\n",
       "      <td>Tukwilacity</td>\n",
       "      <td>1</td>\n",
       "      <td>0.00</td>\n",
       "      <td>0.16</td>\n",
       "      <td>0.12</td>\n",
       "      <td>0.74</td>\n",
       "      <td>0.45</td>\n",
       "      <td>...</td>\n",
       "      <td>0.12</td>\n",
       "      <td>0.45</td>\n",
       "      <td>NaN</td>\n",
       "      <td>NaN</td>\n",
       "      <td>NaN</td>\n",
       "      <td>NaN</td>\n",
       "      <td>0.00</td>\n",
       "      <td>NaN</td>\n",
       "      <td>0.67</td>\n",
       "      <td>1</td>\n",
       "    </tr>\n",
       "    <tr>\n",
       "      <th>2</th>\n",
       "      <td>24</td>\n",
       "      <td>NaN</td>\n",
       "      <td>NaN</td>\n",
       "      <td>Aberdeentown</td>\n",
       "      <td>1</td>\n",
       "      <td>0.00</td>\n",
       "      <td>0.42</td>\n",
       "      <td>0.49</td>\n",
       "      <td>0.56</td>\n",
       "      <td>0.17</td>\n",
       "      <td>...</td>\n",
       "      <td>0.21</td>\n",
       "      <td>0.02</td>\n",
       "      <td>NaN</td>\n",
       "      <td>NaN</td>\n",
       "      <td>NaN</td>\n",
       "      <td>NaN</td>\n",
       "      <td>0.00</td>\n",
       "      <td>NaN</td>\n",
       "      <td>0.43</td>\n",
       "      <td>1</td>\n",
       "    </tr>\n",
       "    <tr>\n",
       "      <th>3</th>\n",
       "      <td>34</td>\n",
       "      <td>5.0</td>\n",
       "      <td>81440.0</td>\n",
       "      <td>Willingborotownship</td>\n",
       "      <td>1</td>\n",
       "      <td>0.04</td>\n",
       "      <td>0.77</td>\n",
       "      <td>1.00</td>\n",
       "      <td>0.08</td>\n",
       "      <td>0.12</td>\n",
       "      <td>...</td>\n",
       "      <td>0.39</td>\n",
       "      <td>0.28</td>\n",
       "      <td>NaN</td>\n",
       "      <td>NaN</td>\n",
       "      <td>NaN</td>\n",
       "      <td>NaN</td>\n",
       "      <td>0.00</td>\n",
       "      <td>NaN</td>\n",
       "      <td>0.12</td>\n",
       "      <td>1</td>\n",
       "    </tr>\n",
       "    <tr>\n",
       "      <th>4</th>\n",
       "      <td>42</td>\n",
       "      <td>95.0</td>\n",
       "      <td>6096.0</td>\n",
       "      <td>Bethlehemtownship</td>\n",
       "      <td>1</td>\n",
       "      <td>0.01</td>\n",
       "      <td>0.55</td>\n",
       "      <td>0.02</td>\n",
       "      <td>0.95</td>\n",
       "      <td>0.09</td>\n",
       "      <td>...</td>\n",
       "      <td>0.09</td>\n",
       "      <td>0.02</td>\n",
       "      <td>NaN</td>\n",
       "      <td>NaN</td>\n",
       "      <td>NaN</td>\n",
       "      <td>NaN</td>\n",
       "      <td>0.00</td>\n",
       "      <td>NaN</td>\n",
       "      <td>0.03</td>\n",
       "      <td>0</td>\n",
       "    </tr>\n",
       "  </tbody>\n",
       "</table>\n",
       "<p>5 rows × 129 columns</p>\n",
       "</div>"
      ],
      "text/plain": [
       "   state  county  community        communityname  fold  population  \\\n",
       "0      8     NaN        NaN         Lakewoodcity     1        0.19   \n",
       "1     53     NaN        NaN          Tukwilacity     1        0.00   \n",
       "2     24     NaN        NaN         Aberdeentown     1        0.00   \n",
       "3     34     5.0    81440.0  Willingborotownship     1        0.04   \n",
       "4     42    95.0     6096.0    Bethlehemtownship     1        0.01   \n",
       "\n",
       "   householdsize  racepctblack  racePctWhite  racePctAsian    ...      \\\n",
       "0           0.33          0.02          0.90          0.12    ...       \n",
       "1           0.16          0.12          0.74          0.45    ...       \n",
       "2           0.42          0.49          0.56          0.17    ...       \n",
       "3           0.77          1.00          0.08          0.12    ...       \n",
       "4           0.55          0.02          0.95          0.09    ...       \n",
       "\n",
       "   PopDens  PctUsePubTrans  PolicCars  PolicOperBudg  LemasPctPolicOnPatr  \\\n",
       "0     0.26            0.20       0.06           0.04                  0.9   \n",
       "1     0.12            0.45        NaN            NaN                  NaN   \n",
       "2     0.21            0.02        NaN            NaN                  NaN   \n",
       "3     0.39            0.28        NaN            NaN                  NaN   \n",
       "4     0.09            0.02        NaN            NaN                  NaN   \n",
       "\n",
       "   LemasGangUnitDeploy  LemasPctOfficDrugUn  PolicBudgPerPop  \\\n",
       "0                  0.5                 0.32             0.14   \n",
       "1                  NaN                 0.00              NaN   \n",
       "2                  NaN                 0.00              NaN   \n",
       "3                  NaN                 0.00              NaN   \n",
       "4                  NaN                 0.00              NaN   \n",
       "\n",
       "   ViolentCrimesPerPop  highCrime  \n",
       "0                 0.20          1  \n",
       "1                 0.67          1  \n",
       "2                 0.43          1  \n",
       "3                 0.12          1  \n",
       "4                 0.03          0  \n",
       "\n",
       "[5 rows x 129 columns]"
      ]
     },
     "execution_count": 13,
     "metadata": {},
     "output_type": "execute_result"
    }
   ],
   "source": [
    "# reading full data file with '?' to denote nan\n",
    "full_data_df = pd.read_csv(full_data_file, na_values=['?'])\n",
    "\n",
    "non_predictors_dirty = {target_variable_reg, target_variable_clf, 'communityname', 'fold', 'state', 'county', 'community'} \n",
    "predictor_variables_dirty =  [col for col in full_data_df if col not in non_predictors_dirty]\n",
    "full_data_df[target_variable_clf] = (full_data_df[target_variable_reg] > 0.1).astype(int)\n",
    "\n",
    "full_data_df.head()"
   ]
  },
  {
   "cell_type": "code",
   "execution_count": 14,
   "metadata": {
    "scrolled": true
   },
   "outputs": [
    {
     "name": "stdout",
     "output_type": "stream",
     "text": [
      "OtherPerCap           has 1 missing value\n",
      "LemasSwornFT          has 1675 missing values\n",
      "LemasSwFTPerPop       has 1675 missing values\n",
      "LemasSwFTFieldOps     has 1675 missing values\n",
      "LemasSwFTFieldPerPop  has 1675 missing values\n",
      "LemasTotalReq         has 1675 missing values\n",
      "LemasTotReqPerPop     has 1675 missing values\n",
      "PolicReqPerOffic      has 1675 missing values\n",
      "PolicPerPop           has 1675 missing values\n",
      "RacialMatchCommPol    has 1675 missing values\n",
      "PctPolicWhite         has 1675 missing values\n",
      "PctPolicBlack         has 1675 missing values\n",
      "PctPolicHisp          has 1675 missing values\n",
      "PctPolicAsian         has 1675 missing values\n",
      "PctPolicMinor         has 1675 missing values\n",
      "OfficAssgnDrugUnits   has 1675 missing values\n",
      "NumKindsDrugsSeiz     has 1675 missing values\n",
      "PolicAveOTWorked      has 1675 missing values\n",
      "PolicCars             has 1675 missing values\n",
      "PolicOperBudg         has 1675 missing values\n",
      "LemasPctPolicOnPatr   has 1675 missing values\n",
      "LemasGangUnitDeploy   has 1675 missing values\n",
      "PolicBudgPerPop       has 1675 missing values\n",
      "\n",
      "\n",
      "Total number of rows with missing data in any column is 1675\n"
     ]
    }
   ],
   "source": [
    "# adding dummy columns for missing data and count of missing data\n",
    "predictor_variables_dirty_missing = []\n",
    "\n",
    "for col in predictor_variables_dirty:\n",
    "    missing_count = full_data_df[col].isnull().sum()\n",
    "    if missing_count>0:\n",
    "        print(\"{:{}s} has {} missing {}\".format(col,21, missing_count, 'value' if missing_count==1 else 'values'))\n",
    "        full_data_df[col+'_missing'] = full_data_df[col].isnull().astype(int)\n",
    "        predictor_variables_dirty_missing.append(col+'_missing')\n",
    "\n",
    "        \n",
    "# checking if the same rows are missing data\n",
    "missing_row_indices = set()\n",
    "for col in predictor_variables_dirty_missing:\n",
    "    missing_row_indices = missing_row_indices | set(full_data_df[full_data_df[col]==True][col].index)\n",
    "print(\"\\n\\nTotal number of rows with missing data in any column is {}\".format(len(missing_row_indices)))\n",
    "\n",
    "# full_data_df.loc[missing_row_indices,target_variable_reg].max()\n",
    "# full_data_df.loc[set(full_data_df.index)-missing_row_indices, target_variable_reg].mean()"
   ]
  },
  {
   "cell_type": "markdown",
   "metadata": {},
   "source": [
    "The same rows seem to be missing the same set of variables. This means that the values are not missing at random. And since the number of missing data in these columns is very high as compared to the total number of observations, its unlikely that these columns would have much predictive power."
   ]
  },
  {
   "cell_type": "code",
   "execution_count": 15,
   "metadata": {
    "collapsed": true
   },
   "outputs": [],
   "source": [
    "# replacing nan values in predictor with -1 which is a value outside the exisiting  range of values\n",
    "for col in predictor_variables_dirty:\n",
    "    full_data_df[col].fillna(full_data_df[col].median(), inplace=True)\n",
    "    "
   ]
  },
  {
   "cell_type": "code",
   "execution_count": 16,
   "metadata": {
    "collapsed": true
   },
   "outputs": [],
   "source": [
    "predictor_variables_dirty_new =  [col for col in full_data_df if col not in non_predictors_dirty \n",
    "#                                   and col not in predictor_variables_dirty_missing\n",
    "                                 ]\n",
    "target_variable_dirty = target_variable_clf"
   ]
  },
  {
   "cell_type": "code",
   "execution_count": 17,
   "metadata": {
    "scrolled": true
   },
   "outputs": [
    {
     "name": "stdout",
     "output_type": "stream",
     "text": [
      "\n",
      "Decision Tree dirty data performace on training with full data:\n",
      "Accuracy of the model is 1.0\n",
      "             precision    recall  f1-score   support\n",
      "\n",
      "  Low crime       1.00      1.00      1.00       743\n",
      " High crime       1.00      1.00      1.00      1251\n",
      "\n",
      "avg / total       1.00      1.00      1.00      1994\n",
      "\n",
      "\n",
      "Decision Tree dirty data performace on cross validation:\n",
      "\n",
      "The 10-fold cross-validation accuracy, precision, recall, f1 for the Decision Tree dirty data model are: \n",
      "\taccuracy              : 0.749700(±0.03)\n",
      "\tprecision             : 0.808800(±0.03)\n",
      "\trecall                : 0.788100(±0.03)\n",
      "\tf1                    : 0.798000(±0.02)\n"
     ]
    }
   ],
   "source": [
    "# initializing the classification scoring instance for decision tree\n",
    "scorers['Decision Tree with dirty data'] = CS595ModelClassificationScoring(DecisionTreeClassifier(random_state=210), \n",
    "                                full_data_df[predictor_variables_dirty_new], \n",
    "                                full_data_df[target_variable_clf], \n",
    "                    'Decision Tree dirty data')\n",
    "\n",
    "# training accuracy, precision, and recall on full data\n",
    "# calling full_data_fit_score on scorer returns model trained on all the data and prints its classification performance\n",
    "scorers['Decision Tree with dirty data'].full_data_fit_score(clf_target_names, print_report='clf')\n",
    "\n",
    "# 10-fold cross-validation accuracy, precision, and recall \n",
    "scorers['Decision Tree with dirty data'].cross_validate()\n"
   ]
  },
  {
   "cell_type": "markdown",
   "metadata": {},
   "source": [
    "The Decision tree model's cross validation scores are slightly better with dirty data. The missing values actually are improving the decision tree model and is informative. It is counter intuitive that less data is actually able to predict more accurately than more data could. Its either because the variables with missing values have very little predictive power and maybe even be adding noise to the model. As stated  earlier the missing values are not missing at random and therefore are able to improve the model."
   ]
  },
  {
   "cell_type": "markdown",
   "metadata": {},
   "source": [
    "## Extra Credit"
   ]
  },
  {
   "cell_type": "markdown",
   "metadata": {},
   "source": [
    "### SVM with non linear kernal"
   ]
  },
  {
   "cell_type": "code",
   "execution_count": 18,
   "metadata": {
    "scrolled": true
   },
   "outputs": [
    {
     "name": "stdout",
     "output_type": "stream",
     "text": [
      "\n",
      "SVC(rbf kernel) with clean data performace on cross validation:\n",
      "\n",
      "The 10-fold cross-validation accuracy, precision, recall, f1 for the SVC(rbf kernel) with clean data model are: \n",
      "\taccuracy              : 0.818300(±0.05)\n",
      "\tprecision             : 0.856700(±0.06)\n",
      "\trecall                : 0.862400(±0.1)\n",
      "\tf1                    : 0.854200(±0.05)\n",
      "\n",
      "SVC(rbf kernel) with dirty data performace on cross validation:\n",
      "\n",
      "The 10-fold cross-validation accuracy, precision, recall, f1 for the SVC(rbf kernel) with dirty data model are: \n",
      "\taccuracy              : 0.828500(±0.01)\n",
      "\tprecision             : 0.860500(±0.02)\n",
      "\trecall                : 0.868100(±0.02)\n",
      "\tf1                    : 0.863900(±0.01)\n"
     ]
    }
   ],
   "source": [
    "# setting variables for easy access\n",
    "X_clean, y_clean = clean_data_df[predictor_variables], clean_data_df[target_variable_clf]\n",
    "X_dirty, y_dirty = full_data_df[predictor_variables], full_data_df[target_variable_clf]\n",
    "\n",
    "# initializing the classification scoring instance for SVM with rbf kernel\n",
    "svc = SVC(kernel=\"rbf\", random_state =210, cache_size=400)\n",
    "\n",
    "# 10-fold cross-validation accuracy, precision, recall and f1 average scores \n",
    "scorers['SVC(rbf kernel) with clean data']=CS595ModelClassificationScoring(copy.deepcopy(svc), X_clean, y_clean, 'SVC(rbf kernel) with clean data')\n",
    "scorers['SVC(rbf kernel) with clean data'].cross_validate()\n",
    "\n",
    "\n",
    "# # 10-fold cross-validation accuracy, precision, recall and f1 average scores \n",
    "scorers['SVC(rbf kernel) with dirty data']=CS595ModelClassificationScoring(copy.deepcopy(svc), X_dirty, y_dirty, 'SVC(rbf kernel) with dirty data')\n",
    "scorers['SVC(rbf kernel) with dirty data'].cross_validate()"
   ]
  },
  {
   "cell_type": "markdown",
   "metadata": {},
   "source": [
    "### Performance  of SVM with non-linear kernal\n",
    "The cross-validation performance of the SVM model with non-linear kernal(rbf) is the best among all the models tried till now. This indicates that there is some form of non linearity in the dataset which could not be captured accurately using polynomial features but is better captured by Gaussian/RBF Kernel."
   ]
  },
  {
   "cell_type": "markdown",
   "metadata": {},
   "source": [
    "### Logistic regression with features selected by RandomizedLogisticRegression\n",
    "\n",
    "Logistic regression is a very powerful technique but its very sensitive to outliers and features with poor predictive power. So first I select  good features using  a technique know as stability selection. randomized selection technique where the penalty of a random subset of coefficients has been scaled. By performing this double randomization several times, the method assigns high scores to features that are repeatedly selected across randomizations. \n",
    "\n",
    "\"Randomized Logistic Regression works by subsampling the training data and fitting a L1-penalized LogisticRegression model where the penalty of a random subset of coefficients has been scaled. By performing this double randomization several times, the method assigns high scores to features that are repeatedly selected across randomizations.\" - sklearn documentation\n"
   ]
  },
  {
   "cell_type": "code",
   "execution_count": 29,
   "metadata": {
    "scrolled": true
   },
   "outputs": [
    {
     "name": "stdout",
     "output_type": "stream",
     "text": [
      "\n",
      "Number of features selected from clean data: 15\n",
      "racepctblack, racePctWhite, racePctHisp, pctUrban, pctWInvInc, FemalePctDiv, TotalPctDiv, PctFam2Par, PctKids2Par, PctPersDenseHous, PctHousLess3BR, HousVacant, PctHousOccup, MedRentPctHousInc, LemasPctOfficDrugUn\n",
      "\n",
      "Number of features selected from dirty data: 14\n",
      "racePctWhite, racePctHisp, pctUrban, pctWInvInc, MalePctDivorce, FemalePctDiv, TotalPctDiv, PctFam2Par, PctKids2Par, PctPersDenseHous, HousVacant, PctHousOccup, MedRentPctHousInc, LemasPctOfficDrugUn\n",
      "\n",
      "Logistic Regression with clean data performace on cross validation:\n",
      "\n",
      "The 10-fold cross-validation accuracy, precision, recall, f1 for the Logistic Regression with clean data model are: \n",
      "\taccuracy              : 0.828900(±0.05)\n",
      "\tprecision             : 0.869400(±0.05)\n",
      "\trecall                : 0.863200(±0.1)\n",
      "\tf1                    : 0.860700(±0.05)\n",
      "\n",
      "Logistic Regression with clean data performace on training with full data:\n",
      "Accuracy of the model is 0.8394380331159057\n",
      "             precision    recall  f1-score   support\n",
      "\n",
      "      False       0.78      0.79      0.79       743\n",
      "       True       0.87      0.87      0.87      1250\n",
      "\n",
      "avg / total       0.84      0.84      0.84      1993\n",
      "\n",
      "\n",
      "The 10 most predictive features of the Logistic Regression with clean data are : \n",
      "                   Feature Importance\n",
      "racepctblack                 2.685487\n",
      "TotalPctDiv                  2.161631\n",
      "racePctWhite                 2.135897\n",
      "PctKids2Par                  1.766958\n",
      "pctWInvInc                   1.624321\n",
      "HousVacant                   1.611573\n",
      "racePctHisp                  1.531708\n",
      "PctPersDenseHous             1.428298\n",
      "FemalePctDiv                 1.424136\n",
      "MedRentPctHousInc            1.267230\n",
      "\n",
      "Logistic Regression with dirty data performace on cross validation:\n",
      "\n",
      "The 10-fold cross-validation accuracy, precision, recall, f1 for the Logistic Regression with dirty data model are: \n",
      "\taccuracy              : 0.841000(±0.02)\n",
      "\tprecision             : 0.875300(±0.02)\n",
      "\trecall                : 0.871300(±0.02)\n",
      "\tf1                    : 0.873100(±0.01)\n",
      "\n",
      "Logistic Regression with dirty data performace on training with full data:\n",
      "Accuracy of the model is 0.8415245737211635\n",
      "             precision    recall  f1-score   support\n",
      "\n",
      "          0       0.79      0.79      0.79       743\n",
      "          1       0.87      0.87      0.87      1251\n",
      "\n",
      "avg / total       0.84      0.84      0.84      1994\n",
      "\n",
      "\n",
      "The 10 most predictive features of the Logistic Regression with dirty data are : \n",
      "                   Feature Importance\n",
      "racePctWhite                 3.495924\n",
      "PctKids2Par                  1.990629\n",
      "MalePctDivorce               1.729816\n",
      "HousVacant                   1.692842\n",
      "pctWInvInc                   1.674814\n",
      "MedRentPctHousInc            1.492277\n",
      "TotalPctDiv                  1.415919\n",
      "PctPersDenseHous             1.363808\n",
      "FemalePctDiv                 1.093794\n",
      "racePctHisp                  1.069404\n"
     ]
    }
   ],
   "source": [
    "from sklearn.linear_model import RandomizedLogisticRegression, LogisticRegression\n",
    "\n",
    "# setting variables for easy access\n",
    "X_clean, y_clean = clean_data_df[predictor_variables], clean_data_df[target_variable_clf]\n",
    "X_dirty, y_dirty = full_data_df[predictor_variables], full_data_df[target_variable_clf]\n",
    "\n",
    "# initializing the classification scoring instance for decision tree\n",
    "randomized_logistic_clean = RandomizedLogisticRegression(random_state=210).fit(X_clean, y_clean)\n",
    "randomized_logistic_dirty = RandomizedLogisticRegression(random_state=210).fit(X_dirty, y_dirty)\n",
    "\n",
    "selected_clean_features = [k for k, v in dict(zip(predictor_variables,randomized_logistic_clean.get_support())).items() if v]\n",
    "selected_dirty_features = [k for k, v in dict(zip(predictor_variables,randomized_logistic_dirty.get_support())).items() if v]\n",
    "\n",
    "print(\"\\nNumber of features selected from clean data: {}\".format(len(selected_clean_features)))\n",
    "print(', '.join(selected_clean_features))\n",
    "print(\"\\nNumber of features selected from dirty data: {}\".format(len(selected_dirty_features)))\n",
    "print(', '.join(selected_dirty_features))\n",
    "\n",
    "X_clean = clean_data_df[selected_clean_features]\n",
    "X_dirty = full_data_df[selected_dirty_features]\n",
    "\n",
    "# initializing the classification scoring instance for SVM with \n",
    "logistic_regression = LogisticRegression()\n",
    "log_reg_model_name_1 =  'Logistic Regression with clean data'\n",
    "# 10-fold cross-validation accuracy, precision, recall and f1 average scores \n",
    "scorers[log_reg_model_name_1]=CS595ModelClassificationScoring(copy.deepcopy(logistic_regression), X_clean, y_clean, \n",
    "                                                                               log_reg_model_name_1)\n",
    "scorers[log_reg_model_name_1].cross_validate()\n",
    "\n",
    "scorers[log_reg_model_name_1].full_data_fit_score(print_report='clf')\n",
    "show_feature_importances(np.abs(scorers[log_reg_model_name_1].full_model.coef_.T.flatten()), selected_clean_features, log_reg_model_name_1)\n",
    "\n",
    "log_reg_model_name_2 =  'Logistic Regression with dirty data'\n",
    "# 10-fold cross-validation accuracy, precision, recall and f1 average scores \n",
    "scorers[log_reg_model_name_2]=CS595ModelClassificationScoring(copy.deepcopy(logistic_regression), X_dirty, y_dirty, \n",
    "                                                                               log_reg_model_name_2)\n",
    "scorers[log_reg_model_name_2].cross_validate()\n",
    "\n",
    "scorers[log_reg_model_name_2].full_data_fit_score(print_report='clf')\n",
    "show_feature_importances(np.abs(scorers[log_reg_model_name_2].full_model.coef_.T.flatten()), selected_dirty_features, log_reg_model_name_2)"
   ]
  },
  {
   "cell_type": "markdown",
   "metadata": {},
   "source": [
    "### Performance of Logistic regression\n",
    "Here we can see that performace is almost outperforms the best performing model SVM (rbf kernel) at a fraction of the model complexity and number of features used. This shows how powerful logistic regression can be and how important feature selection is in machine learning models."
   ]
  },
  {
   "cell_type": "markdown",
   "metadata": {},
   "source": [
    "### ExtraTreesClassifier - Randomizing the random forest\n",
    "Extremely randomized trees are a modification of the random forest classifer where not only is a random subset of candidate features used, but  the thresholds also are drawn at random for each candidate feature and the best of these randomly-generated thresholds is picked as the splitting rule. According to sklearn documentation this usually allows to reduce the variance of the model more than random forest models, at the expense of an increase in bias."
   ]
  },
  {
   "cell_type": "code",
   "execution_count": 32,
   "metadata": {
    "scrolled": true
   },
   "outputs": [
    {
     "name": "stdout",
     "output_type": "stream",
     "text": [
      "\n",
      "ExtraTrees with clean data performace on cross validation:\n",
      "\n",
      "The 10-fold cross-validation accuracy, precision, recall, f1 for the ExtraTrees with clean data model are: \n",
      "\taccuracy              : 0.784200(±0.05)\n",
      "\tprecision             : 0.831600(±0.05)\n",
      "\trecall                : 0.829600(±0.1)\n",
      "\tf1                    : 0.825700(±0.05)\n",
      "\n",
      "ExtraTrees with clean data performace on training with full data:\n",
      "Accuracy of the model is 1.0\n",
      "             precision    recall  f1-score   support\n",
      "\n",
      "      False       1.00      1.00      1.00       743\n",
      "       True       1.00      1.00      1.00      1250\n",
      "\n",
      "avg / total       1.00      1.00      1.00      1993\n",
      "\n",
      "\n",
      "The 10 most predictive features of the ExtraTrees with clean data are : \n",
      "                Feature Importance\n",
      "racepctblack              0.048917\n",
      "PctIlleg                  0.039900\n",
      "pctWInvInc                0.039097\n",
      "FemalePctDiv              0.034273\n",
      "TotalPctDiv               0.029157\n",
      "PctTeen2Par               0.028904\n",
      "pctWPubAsst               0.026477\n",
      "MalePctDivorce            0.026340\n",
      "racePctHisp               0.026108\n",
      "PctKids2Par               0.022023\n",
      "\n",
      "ExtraTrees with dirty data performace on cross validation:\n",
      "\n",
      "The 10-fold cross-validation accuracy, precision, recall, f1 for the ExtraTrees with dirty data model are: \n",
      "\taccuracy              : 0.817500(±0.01)\n",
      "\tprecision             : 0.863700(±0.03)\n",
      "\trecall                : 0.843300(±0.02)\n",
      "\tf1                    : 0.852900(±0.01)\n",
      "\n",
      "ExtraTrees with dirty data performace on training with full data:\n",
      "Accuracy of the model is 1.0\n",
      "             precision    recall  f1-score   support\n",
      "\n",
      "          0       1.00      1.00      1.00       743\n",
      "          1       1.00      1.00      1.00      1251\n",
      "\n",
      "avg / total       1.00      1.00      1.00      1994\n",
      "\n",
      "\n",
      "The 10 most predictive features of the ExtraTrees with dirty data are : \n",
      "                Feature Importance\n",
      "racepctblack              0.048180\n",
      "PctIlleg                  0.040518\n",
      "pctWInvInc                0.038857\n",
      "FemalePctDiv              0.033666\n",
      "TotalPctDiv               0.029561\n",
      "PctTeen2Par               0.028996\n",
      "pctWPubAsst               0.026530\n",
      "MalePctDivorce            0.026279\n",
      "racePctHisp               0.025502\n",
      "racePctWhite              0.021976\n"
     ]
    }
   ],
   "source": [
    "# setting variables for easy access\n",
    "X_clean, y_clean = clean_data_df[predictor_variables], clean_data_df[target_variable_clf]\n",
    "X_dirty, y_dirty = full_data_df[predictor_variables], full_data_df[target_variable_clf]\n",
    "\n",
    "# initializing the classification scoring instance for extra trees\n",
    "extra_trees =  ExtraTreesClassifier(n_estimators=20, random_state=210)\n",
    "# 10-fold cross-validation accuracy, precision, recall and f1 average scores \n",
    "scorers['ExtraTrees with clean data']=CS595ModelClassificationScoring(copy.deepcopy(extra_trees), X_clean, y_clean, 'ExtraTrees with clean data')\n",
    "scorers['ExtraTrees with clean data'].cross_validate()\n",
    "\n",
    "scorers['ExtraTrees with clean data'].full_data_fit_score(print_report='clf')\n",
    "show_feature_importances(np.abs(scorers['ExtraTrees with clean data'].full_model.feature_importances_), predictor_variables, 'ExtraTrees with clean data')\n",
    "\n",
    "# # 10-fold cross-validation accuracy, precision, recall and f1 average scores \n",
    "scorers['ExtraTrees with dirty data']=CS595ModelClassificationScoring(copy.deepcopy(extra_trees), X_dirty, y_dirty, 'ExtraTrees with dirty data')\n",
    "scorers['ExtraTrees with dirty data'].cross_validate()\n",
    "\n",
    "scorers['ExtraTrees with dirty data'].full_data_fit_score(print_report='clf')\n",
    "show_feature_importances(np.abs(scorers['ExtraTrees with dirty data'].full_model.feature_importances_), predictor_variables, 'ExtraTrees with dirty data')"
   ]
  },
  {
   "cell_type": "markdown",
   "metadata": {},
   "source": [
    "### Performance of Extra Trees\n",
    "Here we can see that performace of the extra trees is good and the feature importance matches features selected from other models and feature selection techniques. But the performace is still below logistic regression and SVM with rbf kernel.  I am sure this model can perform better with the right tuning."
   ]
  },
  {
   "cell_type": "markdown",
   "metadata": {},
   "source": [
    "### Gradient Boosting Classifier \n",
    "Gradient Boosted Regression Trees (GBRT) is a generalization of boosting to arbitrary differentiable loss functions. GBRT is an accurate and effective off-the-shelf procedure that can be used for both regression and classification problems. Gradient Tree Boosting models are used in a variety of areas including Web search ranking and ecology. - sklean documentation"
   ]
  },
  {
   "cell_type": "code",
   "execution_count": 35,
   "metadata": {},
   "outputs": [
    {
     "name": "stdout",
     "output_type": "stream",
     "text": [
      "\n",
      "Gradient Boosting with clean data performace on cross validation:\n",
      "\n",
      "The 10-fold cross-validation accuracy, precision, recall, f1 for the Gradient Boosting with clean data model are: \n",
      "\taccuracy              : 0.819800(±0.06)\n",
      "\tprecision             : 0.859200(±0.06)\n",
      "\trecall                : 0.861600(±0.1)\n",
      "\tf1                    : 0.854900(±0.05)\n",
      "\n",
      "Gradient Boosting with clean data performace on training with full data:\n",
      "Accuracy of the model is 0.870546914199699\n",
      "             precision    recall  f1-score   support\n",
      "\n",
      "      False       0.82      0.84      0.83       743\n",
      "       True       0.90      0.89      0.90      1250\n",
      "\n",
      "avg / total       0.87      0.87      0.87      1993\n",
      "\n",
      "\n",
      "The 10 most predictive features of the Gradient Boosting with clean data are : \n",
      "                  Feature Importance\n",
      "PctKids2Par                 0.338200\n",
      "racePctWhite                0.122595\n",
      "NumIlleg                    0.105232\n",
      "FemalePctDiv                0.071176\n",
      "racePctHisp                 0.063432\n",
      "PctIlleg                    0.051780\n",
      "PctPersDenseHous            0.038144\n",
      "HousVacant                  0.031833\n",
      "TotalPctDiv                 0.013028\n",
      "blackPerCap                 0.010296\n",
      "\n",
      "Gradient Boosting with dirty data performace on cross validation:\n",
      "\n",
      "The 10-fold cross-validation accuracy, precision, recall, f1 for the Gradient Boosting with dirty data model are: \n",
      "\taccuracy              : 0.835000(±0.02)\n",
      "\tprecision             : 0.867600(±0.02)\n",
      "\trecall                : 0.870500(±0.01)\n",
      "\tf1                    : 0.868900(±0.01)\n",
      "\n",
      "Gradient Boosting with dirty data performace on training with full data:\n",
      "Accuracy of the model is 0.8706118355065195\n",
      "             precision    recall  f1-score   support\n",
      "\n",
      "          0       0.82      0.84      0.83       743\n",
      "          1       0.90      0.89      0.90      1251\n",
      "\n",
      "avg / total       0.87      0.87      0.87      1994\n",
      "\n",
      "\n",
      "The 10 most predictive features of the Gradient Boosting with dirty data are : \n",
      "                  Feature Importance\n",
      "PctKids2Par                 0.338256\n",
      "racePctWhite                0.122603\n",
      "NumIlleg                    0.105257\n",
      "FemalePctDiv                0.071182\n",
      "racePctHisp                 0.063395\n",
      "PctIlleg                    0.051802\n",
      "PctPersDenseHous            0.038140\n",
      "HousVacant                  0.031821\n",
      "TotalPctDiv                 0.013023\n",
      "blackPerCap                 0.010294\n"
     ]
    }
   ],
   "source": [
    "# setting variables for easy access\n",
    "X_clean, y_clean = clean_data_df[predictor_variables], clean_data_df[target_variable_clf]\n",
    "X_dirty, y_dirty = full_data_df[predictor_variables], full_data_df[target_variable_clf]\n",
    "\n",
    "grad_boost_model_name = 'Gradient Boosting with clean data'\n",
    "# initializing the classification scoring instance for Gradient Boosting Classifier \n",
    "gradient_boosting =  GradientBoostingClassifier(n_estimators=20 , random_state=210)\n",
    "# 10-fold cross-validation accuracy, precision, recall and f1 average scores \n",
    "scorers[grad_boost_model_name]=CS595ModelClassificationScoring(copy.deepcopy(gradient_boosting), X_clean, y_clean, grad_boost_model_name)\n",
    "scorers[grad_boost_model_name].cross_validate()\n",
    "\n",
    "scorers[grad_boost_model_name].full_data_fit_score(print_report='clf')\n",
    "show_feature_importances(np.abs(scorers[grad_boost_model_name].full_model.feature_importances_), predictor_variables, grad_boost_model_name)\n",
    "\n",
    "# # 10-fold cross-validation accuracy, precision, recall and f1 average scores \n",
    "scorers['Gradient Boosting with dirty data']=CS595ModelClassificationScoring(copy.deepcopy(gradient_boosting), X_dirty, y_dirty, 'Gradient Boosting with dirty data')\n",
    "scorers['Gradient Boosting with dirty data'].cross_validate()\n",
    "\n",
    "scorers['Gradient Boosting with dirty data'].full_data_fit_score(print_report='clf')\n",
    "show_feature_importances(np.abs(scorers['Gradient Boosting with dirty data'].full_model.feature_importances_), predictor_variables, 'Gradient Boosting with dirty data')"
   ]
  },
  {
   "cell_type": "markdown",
   "metadata": {},
   "source": [
    "### Performance of Gradient Boosting Classifier\n",
    "Here we can see that performace of gradient boosting is slightly better than that of random forest and but is still below the logistic regression with feature selection and SVM with RBF kernel. I am sure this model can perform better with the right tuning."
   ]
  },
  {
   "cell_type": "markdown",
   "metadata": {
    "collapsed": true
   },
   "source": [
    "### Feature selection using recursive feature elimination\n",
    "Features are ranked with recursive feature elimination and cross-validated selection of the best number of features. These features can be used in place of all the features and gain almost all the predictive power possible using the classifier. I have used a SVC with linear kernel as the classifier. I wanted to check what the effect of feature selection would be on SVM models which tended to be the best preformes yet."
   ]
  },
  {
   "cell_type": "code",
   "execution_count": 34,
   "metadata": {},
   "outputs": [
    {
     "name": "stdout",
     "output_type": "stream",
     "text": [
      "Selection of optimal number of features for clean data\n",
      "Number of optimal features selected: 7\n",
      "\tSelected Features\n",
      "\t1. racepctblack\n",
      "\t2. racePctWhite\n",
      "\t3. racePctHisp\n",
      "\t4. numbUrban\n",
      "\t5. MalePctDivorce\n",
      "\t6. PctKids2Par\n",
      "\t7. HousVacant\n"
     ]
    },
    {
     "data": {
      "image/png": "[encoded data removed]",
      "text/plain": [
       "<matplotlib.figure.Figure at 0x2468a91c550>"
      ]
     },
     "metadata": {},
     "output_type": "display_data"
    },
    {
     "name": "stdout",
     "output_type": "stream",
     "text": [
      "\n",
      "SVC linear kernel with CV feature selection on clean data performace on cross validation:\n",
      "\n",
      "The 10-fold cross-validation accuracy, precision, recall, f1 for the SVC linear kernel with CV feature selection on clean data model are: \n",
      "\taccuracy              : 0.836900(±0.05)\n",
      "\tprecision             : 0.881000(±0.05)\n",
      "\trecall                : 0.863200(±0.1)\n",
      "\tf1                    : 0.866400(±0.05)\n",
      "Selection of optimal number of features for dirty data\n",
      "Number of optimal features selected: 25\n",
      "\tSelected Features\n",
      "\t1. population\n",
      "\t2. householdsize\n",
      "\t3. racepctblack\n",
      "\t4. racePctWhite\n",
      "\t5. racePctHisp\n",
      "\t6. agePct12t21\n",
      "\t7. agePct65up\n",
      "\t8. numbUrban\n",
      "\t9. pctWWage\n",
      "\t10. pctWInvInc\n",
      "\t11. NumUnderPov\n",
      "\t12. PctEmplProfServ\n",
      "\t13. PctOccupManu\n",
      "\t14. MalePctDivorce\n",
      "\t15. TotalPctDiv\n",
      "\t16. PctFam2Par\n",
      "\t17. PctKids2Par\n",
      "\t18. PctYoungKids2Par\n",
      "\t19. PctIlleg\n",
      "\t20. PersPerOccupHous\n",
      "\t21. HousVacant\n",
      "\t22. PctHousNoPhone\n",
      "\t23. RentLowQ\n",
      "\t24. RentHighQ\n",
      "\t25. LemasSwornFT\n"
     ]
    },
    {
     "data": {
      "image/png": "[encoded data removed]",
      "text/plain": [
       "<matplotlib.figure.Figure at 0x2468ab305f8>"
      ]
     },
     "metadata": {},
     "output_type": "display_data"
    },
    {
     "name": "stdout",
     "output_type": "stream",
     "text": [
      "\n",
      "SVC linear kernel with CV feature selection on dirty data performace on cross validation:\n",
      "\n",
      "The 10-fold cross-validation accuracy, precision, recall, f1 for the SVC linear kernel with CV feature selection on dirty data model are: \n",
      "\taccuracy              : 0.843500(±0.01)\n",
      "\tprecision             : 0.881800(±0.02)\n",
      "\trecall                : 0.867300(±0.02)\n",
      "\tf1                    : 0.874300(±0.01)\n"
     ]
    }
   ],
   "source": [
    "import matplotlib.pyplot as plt\n",
    "from sklearn.model_selection import StratifiedKFold\n",
    "from sklearn.feature_selection import RFECV\n",
    "\n",
    "def fit_RFECV(model_object, train_data, target_data):\n",
    "    # Create the RFE object and compute a cross-validated score.\n",
    "    # The \"accuracy\" scoring is used to select the features\n",
    "    rfecv = RFECV(estimator=model_object, step=1, cv=StratifiedKFold(),scoring='accuracy')\n",
    "    rfecv.fit(train_data, target_data)\n",
    "    feature_ranks = sorted(list(zip(predictor_variables_dirty, rfecv.ranking_ )), key=lambda x :x[1], reverse=False)\n",
    "    selected_features = []\n",
    "    print(\"Number of optimal features selected: {}\".format(rfecv.n_features_))\n",
    "    print ('\\tSelected Features')\n",
    "    for i, feature_rank in enumerate(feature_ranks[:rfecv.n_features_]):\n",
    "        print (\"\\t{}. {}\".format(i+1, feature_rank[0]))\n",
    "        selected_features.append(feature_rank[0])\n",
    "\n",
    "    # Plot number of features VS. cross-validation scores\n",
    "    plt.figure()\n",
    "    plt.xlabel(\"Number of features selected\")\n",
    "    plt.ylabel(\"Cross validation score (nb of correct classifications)\")\n",
    "    plt.plot(range(1, len(rfecv.grid_scores_) + 1), rfecv.grid_scores_)\n",
    "    plt.show()\n",
    "    return selected_features\n",
    "\n",
    "\n",
    "# setting variables for easy access\n",
    "X_clean, y_clean = clean_data_df[predictor_variables], clean_data_df[target_variable_clf]\n",
    "X_dirty, y_dirty = full_data_df[predictor_variables], full_data_df[target_variable_clf]\n",
    "\n",
    "# Classifier used for RFECV\n",
    "svc_lin = SVC(kernel=\"linear\", random_state =210, cache_size=400)\n",
    "\n",
    "print(\"Selection of optimal number of features for clean data\")\n",
    "clean_features_selected = fit_RFECV(copy.deepcopy(svc_lin), X_clean, y_clean)\n",
    "\n",
    "model_name_svc_4 = 'SVC linear kernel with CV feature selection on clean data'\n",
    "# 10-fold cross-validation accuracy, precision, recall and f1 average scores \n",
    "scorers[model_name_svc_4]=CS595ModelClassificationScoring(copy.deepcopy(svc_lin), \n",
    "                                                                          clean_data_df[clean_features_selected], y_clean, \n",
    "                                                                          model_name_svc_4)\n",
    "scorers[model_name_svc_4].cross_validate()\n",
    "\n",
    "\n",
    "model_name_svc_5 = 'SVC linear kernel with CV feature selection on dirty data'\n",
    "print(\"Selection of optimal number of features for dirty data\")\n",
    "dirty_features_selected = fit_RFECV(copy.deepcopy(svc_lin), X_dirty, y_dirty)\n",
    "               \n",
    "\n",
    "# # 10-fold cross-validation accuracy, precision, recall and f1 average scores \n",
    "scorers[model_name_svc_5] = CS595ModelClassificationScoring(copy.deepcopy(svc_lin), \n",
    "                                                                      full_data_df[dirty_features_selected], y_dirty, \n",
    "                                                                      model_name_svc_5)\n",
    "scorers[model_name_svc_5].cross_validate()"
   ]
  },
  {
   "cell_type": "markdown",
   "metadata": {},
   "source": [
    "### Performance of SVM with linear kernel and cross-validated feature selection\n",
    "Here we can see that performace of SVM esily outperforms the best performing models using only a fraction of the predictor variables for both data sets. This again highlights how important feature selection is in the process of model building."
   ]
  },
  {
   "cell_type": "markdown",
   "metadata": {
    "collapsed": true
   },
   "source": [
    "### Best peforming model\n",
    "For me the best performing model is Logistic Regression with cross-validation based feature selection. This model is not only very fast to compute but it is also easier to interpret. It is a bit unfair to compare it to other models that have not been tuned such as decision trees, extra trees and gradient boosting. But I prefer this because it gives a sufficiently high level of performance without needing many predictor variables and usinf minimal computation resources. So even though the SVC linear kernel with CV feature selection model slighthly outperforms the logistic regression I chose it because the model is a simpler one."
   ]
  },
  {
   "cell_type": "markdown",
   "metadata": {},
   "source": [
    "### Most common high importance features\n",
    "The top 5 most features that have consistent high importance are:\n",
    "1.PctKids2Par\n",
    "2. racePctWhite\n",
    "3. racePctHisp \n",
    "4. HousVacant\n",
    "5. MalePctDivorce\n",
    "\n",
    "Most of the models have differnt approches in how they treat correlated variables and how they calculate importance. All these methods capture different forms of predictive power that the varibles possess. So if these variables are showing up consistently as high importance features in multiple models and also when feature selection techniques are applied then its highly reliable that these variables are actually of high importance in predicting crime. "
   ]
  }
 ],
 "metadata": {
  "kernelspec": {
   "display_name": "Python 3",
   "language": "python",
   "name": "python3"
  },
  "language_info": {
   "codemirror_mode": {
    "name": "ipython",
    "version": 3
   },
   "file_extension": ".py",
   "mimetype": "text/x-python",
   "name": "python",
   "nbconvert_exporter": "python",
   "pygments_lexer": "ipython3",
   "version": "3.6.2"
  }
 },
 "nbformat": 4,
 "nbformat_minor": 2
}
